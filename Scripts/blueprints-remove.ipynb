{
 "cells": [
  {
   "cell_type": "markdown",
   "source": [
    "# Remove unpublished blueprints"
   ],
   "metadata": {
    "collapsed": false
   }
  },
  {
   "cell_type": "code",
   "execution_count": 1,
   "metadata": {
    "collapsed": true
   },
   "outputs": [],
   "source": [
    "import sqlite3\n",
    "from monad_std import *"
   ]
  },
  {
   "cell_type": "code",
   "execution_count": 2,
   "outputs": [],
   "source": [
    "db_blp = sqlite3.connect('blueprints.db')\n",
    "cur_blp = db_blp.cursor()\n",
    "db_name = sqlite3.connect('id-name.db')\n",
    "cur_name = db_name.cursor()"
   ],
   "metadata": {
    "collapsed": false,
    "pycharm": {
     "name": "#%%\n"
    }
   }
  },
  {
   "cell_type": "code",
   "execution_count": 3,
   "outputs": [],
   "source": [
    "def is_published(type_id: int) -> bool:\n",
    "    cur_name.execute(\"select published from typename where type_id == ?\", (type_id,))\n",
    "    val = cur_name.fetchone()\n",
    "    return val is not None and val[0] == 1"
   ],
   "metadata": {
    "collapsed": false,
    "pycharm": {
     "name": "#%%\n"
    }
   }
  },
  {
   "cell_type": "code",
   "execution_count": 4,
   "outputs": [],
   "source": [
    "cur_blp.execute(\"select type_id from blp_name;\")\n",
    "blp_ids = [x[0] for x in cur_blp.fetchall()]"
   ],
   "metadata": {
    "collapsed": false,
    "pycharm": {
     "name": "#%%\n"
    }
   }
  },
  {
   "cell_type": "code",
   "execution_count": 5,
   "outputs": [],
   "source": [
    "id_to_delete = []\n",
    "for blp_id in blp_ids:\n",
    "    if not is_published(blp_id):\n",
    "        id_to_delete.append(blp_id)"
   ],
   "metadata": {
    "collapsed": false,
    "pycharm": {
     "name": "#%%\n"
    }
   }
  },
  {
   "cell_type": "code",
   "execution_count": 6,
   "outputs": [],
   "source": [
    "cur_blp.executemany(\"delete from blp_name where type_id == ?\", map(lambda x: (x,), id_to_delete))\n",
    "cur_blp.executemany(\"delete from blp_recursive where blp_id == ?\", map(lambda x: (x,), id_to_delete))\n",
    "cur_blp.executemany(\"delete from material where type_id == ?\", map(lambda x: (x,), id_to_delete))\n",
    "cur_blp.executemany(\"delete from product where blp_id == ?\", map(lambda x: (x,), id_to_delete))\n",
    "cur_blp.executemany(\"delete from product where product_id == ?\", map(lambda x: (x,), id_to_delete))\n",
    "db_blp.commit()"
   ],
   "metadata": {
    "collapsed": false,
    "pycharm": {
     "name": "#%%\n"
    }
   }
  }
 ],
 "metadata": {
  "kernelspec": {
   "display_name": "Python 3",
   "language": "python",
   "name": "python3"
  },
  "language_info": {
   "codemirror_mode": {
    "name": "ipython",
    "version": 2
   },
   "file_extension": ".py",
   "mimetype": "text/x-python",
   "name": "python",
   "nbconvert_exporter": "python",
   "pygments_lexer": "ipython2",
   "version": "2.7.6"
  }
 },
 "nbformat": 4,
 "nbformat_minor": 0
}