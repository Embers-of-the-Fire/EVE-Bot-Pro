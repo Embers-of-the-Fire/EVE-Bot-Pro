{
 "cells": [
  {
   "cell_type": "code",
   "execution_count": 3,
   "metadata": {
    "collapsed": true
   },
   "outputs": [],
   "source": [
    "import yaml\n",
    "import sqlite3\n",
    "from monad_std import Option, std_types"
   ]
  },
  {
   "cell_type": "code",
   "execution_count": 2,
   "outputs": [],
   "source": [
    "fp = r'E:\\WBH\\Games\\eve forever\\EVE Data\\sde\\sde\\fsd\\typeIDs.yaml'\n",
    "with open(fp, 'r', encoding='utf-8') as f:\n",
    "    type_ids = yaml.load(f, yaml.CLoader)"
   ],
   "metadata": {
    "collapsed": false,
    "pycharm": {
     "name": "#%%\n"
    }
   }
  },
  {
   "cell_type": "code",
   "execution_count": 8,
   "outputs": [],
   "source": [
    "id_and_name = {}\n",
    "for type_id, type_data in type_ids.items():\n",
    "    name = None\n",
    "    if 'name' in type_data.keys():\n",
    "        if 'zh' in type_data['name'].keys():\n",
    "            name = type_data['name']['zh']\n",
    "        elif 'en' in type_data['name'].keys():\n",
    "            name = type_data['name']['en']\n",
    "\n",
    "    if not name:\n",
    "        name = f\"无名称物品（{type_id}）\"\n",
    "    name = name.replace(' (Do not translate)', '').replace('DO NOT TRANSLATE - ', '')\n",
    "    id_and_name[type_id] = (name,\n",
    "                            std_types.MDict(**type_data)\n",
    "                            .get(\"published\")\n",
    "                            .map(lambda x: 1 if x else 0)\n",
    "                            .unwrap_unchecked())"
   ],
   "metadata": {
    "collapsed": false,
    "pycharm": {
     "name": "#%%\n"
    }
   }
  },
  {
   "cell_type": "code",
   "execution_count": 5,
   "outputs": [],
   "source": [
    "db = sqlite3.connect('id-name.db')\n",
    "cursor = db.cursor()"
   ],
   "metadata": {
    "collapsed": false,
    "pycharm": {
     "name": "#%%\n"
    }
   }
  },
  {
   "cell_type": "code",
   "execution_count": 6,
   "outputs": [],
   "source": [
    "_sql = \"\"\"create table if not exists typename (\n",
    "    type_id integer primary key not null,\n",
    "    type_name text not null,\n",
    "    published integer not null default 1\n",
    ");\"\"\"\n",
    "cursor.execute(_sql)\n",
    "db.commit()"
   ],
   "metadata": {
    "collapsed": false,
    "pycharm": {
     "name": "#%%\n"
    }
   }
  },
  {
   "cell_type": "code",
   "execution_count": 9,
   "outputs": [],
   "source": [
    "_sql = \"insert into typename values (?, ?, ?);\"\n",
    "for key, value in id_and_name.items():\n",
    "    cursor.execute(_sql, (key, value[0], value[1]))\n",
    "db.commit()"
   ],
   "metadata": {
    "collapsed": false,
    "pycharm": {
     "name": "#%%\n"
    }
   }
  },
  {
   "cell_type": "code",
   "execution_count": 30,
   "outputs": [],
   "source": [
    "db.close()"
   ],
   "metadata": {
    "collapsed": false,
    "pycharm": {
     "name": "#%%\n"
    }
   }
  }
 ],
 "metadata": {
  "kernelspec": {
   "display_name": "Python 3",
   "language": "python",
   "name": "python3"
  },
  "language_info": {
   "codemirror_mode": {
    "name": "ipython",
    "version": 2
   },
   "file_extension": ".py",
   "mimetype": "text/x-python",
   "name": "python",
   "nbconvert_exporter": "python",
   "pygments_lexer": "ipython2",
   "version": "2.7.6"
  }
 },
 "nbformat": 4,
 "nbformat_minor": 0
}