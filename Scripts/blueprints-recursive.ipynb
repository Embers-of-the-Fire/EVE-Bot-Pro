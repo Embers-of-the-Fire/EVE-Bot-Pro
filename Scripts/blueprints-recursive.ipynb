{
 "cells": [
  {
   "cell_type": "code",
   "execution_count": 13,
   "metadata": {
    "collapsed": true
   },
   "outputs": [],
   "source": [
    "import sqlite3\n",
    "import cbor2\n",
    "from monad_std import Option\n",
    "from typing import *\n",
    "from dataclasses import dataclass\n",
    "import math"
   ]
  },
  {
   "cell_type": "code",
   "execution_count": 14,
   "outputs": [],
   "source": [
    "db = sqlite3.connect(\"./blueprints.db\")\n",
    "cursor = db.cursor()"
   ],
   "metadata": {
    "collapsed": false,
    "pycharm": {
     "name": "#%%\n"
    }
   }
  },
  {
   "cell_type": "code",
   "execution_count": 15,
   "outputs": [],
   "source": [
    "cursor.execute(\"\"\"create table if not exists blp_recursive (\n",
    "    blp_id integer primary key not null unique,\n",
    "    blp_type integer not null default 0,\n",
    "    material blob,\n",
    "    product blob,\n",
    "    `time` integer not null default 1\n",
    ");\"\"\")\n",
    "db.commit()"
   ],
   "metadata": {
    "collapsed": false,
    "pycharm": {
     "name": "#%%\n"
    }
   }
  },
  {
   "cell_type": "code",
   "execution_count": 16,
   "outputs": [],
   "source": [
    "@dataclass(eq=False, order=False, unsafe_hash=False, repr=True, frozen=True, init=True)\n",
    "class BlpData:\n",
    "    type_id: int\n",
    "    flag: int\n",
    "    material: Dict[int, int]\n",
    "    product: Option[Tuple[int, int]] # id, amo\n",
    "    time: int\n",
    "\n",
    "    @staticmethod\n",
    "    def search(blp_id: int) -> Option[\"BlpData\"]:\n",
    "        cursor.execute(\"select flag, material, product, time from material where type_id == ?\", (blp_id,))\n",
    "        val = cursor.fetchone()\n",
    "        if val is None:\n",
    "            return Option.none()\n",
    "\n",
    "        return Option.some(BlpData(\n",
    "            type_id=blp_id,\n",
    "            flag=int(val[0]),\n",
    "            material=cbor2.loads(val[1]),\n",
    "            product=Option.from_nullable(val[2]).map(lambda x: tuple(cbor2.loads(x))),\n",
    "            time=int(val[3]),\n",
    "        ))"
   ],
   "metadata": {
    "collapsed": false,
    "pycharm": {
     "name": "#%%\n"
    }
   }
  },
  {
   "cell_type": "code",
   "execution_count": 17,
   "outputs": [],
   "source": [
    "def get_blp_from_prod(prod_id: int) -> Option[Tuple[int, int]]:\n",
    "    \"\"\"\n",
    "    int @ 1: blp id\n",
    "    int @ 2: product amount\n",
    "    \"\"\"\n",
    "    cursor.execute(\"select blp_id, amount from product where product_id == ?\", (prod_id,))\n",
    "    val = cursor.fetchone()\n",
    "    if val is None:\n",
    "        return Option.none()\n",
    "\n",
    "    return Option.some(val)"
   ],
   "metadata": {
    "collapsed": false,
    "pycharm": {
     "name": "#%%\n"
    }
   }
  },
  {
   "cell_type": "code",
   "execution_count": 18,
   "outputs": [],
   "source": [
    "@dataclass(eq=False, order=False, unsafe_hash=False, repr=True, frozen=False, init=True)\n",
    "class BlpRecMaterial:\n",
    "    raw_quantity: float = 0.0\n",
    "    manu_level: int = 0\n",
    "    reaction_level: int = 0\n",
    "\n",
    "    def dict(self) -> Dict[str, Union[int, float]]:\n",
    "        return {\n",
    "            \"raw_quantity\": self.raw_quantity,\n",
    "            \"manu_level\": self.manu_level,\n",
    "            \"reaction_level\": self.reaction_level,\n",
    "        }"
   ],
   "metadata": {
    "collapsed": false,
    "pycharm": {
     "name": "#%%\n"
    }
   }
  },
  {
   "cell_type": "code",
   "execution_count": 20,
   "outputs": [],
   "source": [
    "# Tuple[int, int]: type id, quantity\n",
    "@dataclass(eq=False, order=False, unsafe_hash=False, repr=True, frozen=True, init=True)\n",
    "class BlpRecursive:\n",
    "    blp_id: int\n",
    "    time: int\n",
    "    blp_type: int\n",
    "    material: Dict[int, List[BlpRecMaterial]]\n",
    "    product: Option[Tuple[int, int]] # id, amount\n",
    "\n",
    "    @staticmethod\n",
    "    def __fetch_with_blp(blp: BlpData, factor: float, stack: List[Tuple[int, int]]) -> Dict[int, List[BlpRecMaterial]]:\n",
    "        val_to_collect: List[Dict[int, List[BlpRecMaterial]]] = []\n",
    "        for material_id, material_amount in blp.material.items():\n",
    "            fetched = BlpRecursive.__fetch_type(\n",
    "                material_id,\n",
    "                factor * material_amount,\n",
    "                stack\n",
    "            )\n",
    "            if blp.flag == 1:\n",
    "                for key in fetched.keys():\n",
    "                    for index in range(len(fetched[key])):\n",
    "                        fetched[key][index].manu_level += 1\n",
    "            elif blp.flag == 2:\n",
    "                for key in fetched.keys():\n",
    "                    for index in range(len(fetched[key])):\n",
    "                        fetched[key][index].reaction_level += 1\n",
    "            val_to_collect.append(fetched)\n",
    "        val_to_return: Dict[int, Dict[Tuple[int, int], float]] = {}\n",
    "        for val in val_to_collect:\n",
    "            for t_id, t_amounts in val.items():\n",
    "                if t_id not in val_to_return:\n",
    "                    val_to_return[t_id] = {}\n",
    "                for t_amount in t_amounts:\n",
    "                    if (t_amount.manu_level, t_amount.reaction_level) not in val_to_return[t_id].keys():\n",
    "                        val_to_return[t_id][(t_amount.manu_level, t_amount.reaction_level)] = t_amount.raw_quantity\n",
    "                    else:\n",
    "                        val_to_return[t_id][(t_amount.manu_level, t_amount.reaction_level)] += t_amount.raw_quantity\n",
    "        return {k: [BlpRecMaterial(\n",
    "                        raw_quantity=iv,\n",
    "                        manu_level=ik[0],\n",
    "                        reaction_level=ik[1]\n",
    "                    ) for ik, iv in v.items()\n",
    "                    ] for k, v in val_to_return.items()}\n",
    "\n",
    "    @staticmethod\n",
    "    def __fetch_type(type_id: int, quantity: int, stack: List[Tuple[int, int]]) -> Dict[int, List[BlpRecMaterial]]:\n",
    "        # if type_id == 17888:\n",
    "        #     print(quantity, stack)\n",
    "        if type_id in map(lambda x: x[0], stack):\n",
    "            return {type_id: [BlpRecMaterial(raw_quantity=quantity)]}\n",
    "        blp_data = get_blp_from_prod(type_id)\n",
    "        if blp_data.is_none():\n",
    "            return {type_id: [BlpRecMaterial(raw_quantity=quantity)]}\n",
    "        blp_id, product_amount = blp_data.unwrap_unchecked()\n",
    "        raw_blp: Option[BlpData] = BlpData.search(blp_id)\n",
    "        if raw_blp.is_none():\n",
    "            return {type_id: [BlpRecMaterial(raw_quantity=quantity)]}\n",
    "        blp: BlpData = raw_blp.unwrap_unchecked()\n",
    "        factor = quantity / product_amount\n",
    "        return BlpRecursive.__fetch_with_blp(blp, factor, [*stack, (type_id, quantity)])\n",
    "\n",
    "    @staticmethod\n",
    "    def get_recursive(blp_id: int) -> Option[\"BlpRecursive\"]:\n",
    "        raw_val: Option[BlpData] = BlpData.search(blp_id)\n",
    "        if raw_val.is_none():\n",
    "            return Option.none()\n",
    "\n",
    "        val = raw_val.unwrap_unchecked()\n",
    "        blp_time = val.time\n",
    "        blp_product = val.product\n",
    "        dat = BlpRecursive.__fetch_with_blp(\n",
    "            val,\n",
    "            1,\n",
    "            [] if blp_product.is_none() else [tuple(blp_product.unwrap_unchecked())]\n",
    "        )\n",
    "        return Option.some(BlpRecursive(\n",
    "            blp_id=blp_id,\n",
    "            time=blp_time,\n",
    "            product=blp_product,\n",
    "            material=dat,\n",
    "            blp_type=val.flag,\n",
    "        ))"
   ],
   "metadata": {
    "collapsed": false,
    "pycharm": {
     "name": "#%%\n"
    }
   }
  },
  {
   "cell_type": "code",
   "execution_count": 21,
   "outputs": [
    {
     "data": {
      "text/plain": "[BlpRecMaterial(raw_quantity=140.625, manu_level=4, reaction_level=2),\n BlpRecMaterial(raw_quantity=12139.4775, manu_level=3, reaction_level=1),\n BlpRecMaterial(raw_quantity=16197.7040625, manu_level=3, reaction_level=2)]"
     },
     "execution_count": 21,
     "metadata": {},
     "output_type": "execute_result"
    }
   ],
   "source": [
    "BlpRecursive.get_recursive(28660).unwrap_unchecked().material[17888]"
   ],
   "metadata": {
    "collapsed": false,
    "pycharm": {
     "name": "#%%\n"
    }
   }
  },
  {
   "cell_type": "code",
   "execution_count": 22,
   "outputs": [],
   "source": [
    "def insert_blp(blp_id: int, blp_flag: int, blp: Option[BlpRecursive]):\n",
    "    if blp.is_none():\n",
    "        cursor.execute(\"insert into blp_recursive values (?, ?, null, null, 1)\", (blp_id, blp_flag))\n",
    "    blp = blp.unwrap_unchecked()\n",
    "    mat = cbor2.dumps({x: [z.dict() for z in y] for x, y in blp.material.items()})\n",
    "    if blp.product.is_none():\n",
    "        cursor.execute(\"insert into blp_recursive values (?, ?, ?, null, ?)\", (blp_id, blp_flag, mat, blp.time))\n",
    "    else:\n",
    "        cursor.execute(\n",
    "            \"insert into blp_recursive values (?, ?, ?, ?, ?)\",\n",
    "            (blp_id, blp_flag, mat, cbor2.dumps(blp.product.unwrap_unchecked()), blp.time)\n",
    "        )\n",
    "    db.commit()"
   ],
   "metadata": {
    "collapsed": false,
    "pycharm": {
     "name": "#%%\n"
    }
   }
  },
  {
   "cell_type": "code",
   "execution_count": 25,
   "outputs": [],
   "source": [
    "cursor.execute(\"select type_id, flag from material;\")\n",
    "id_list = cursor.fetchall()\n",
    "for i, f in id_list:\n",
    "    insert_blp(i, f, BlpRecursive.get_recursive(i))"
   ],
   "metadata": {
    "collapsed": false,
    "pycharm": {
     "name": "#%%\n"
    }
   }
  },
  {
   "cell_type": "code",
   "execution_count": 24,
   "outputs": [],
   "source": [
    "cursor.execute(\"delete from blp_recursive;\")\n",
    "db.commit()"
   ],
   "metadata": {
    "collapsed": false,
    "pycharm": {
     "name": "#%%\n"
    }
   }
  }
 ],
 "metadata": {
  "kernelspec": {
   "display_name": "Python 3",
   "language": "python",
   "name": "python3"
  },
  "language_info": {
   "codemirror_mode": {
    "name": "ipython",
    "version": 2
   },
   "file_extension": ".py",
   "mimetype": "text/x-python",
   "name": "python",
   "nbconvert_exporter": "python",
   "pygments_lexer": "ipython2",
   "version": "2.7.6"
  }
 },
 "nbformat": 4,
 "nbformat_minor": 0
}