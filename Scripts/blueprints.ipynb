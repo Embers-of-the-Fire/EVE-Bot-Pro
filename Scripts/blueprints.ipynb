{
 "cells": [
  {
   "cell_type": "code",
   "execution_count": 4,
   "metadata": {
    "collapsed": true
   },
   "outputs": [],
   "source": [
    "import cbor2\n",
    "import sqlite3\n",
    "import yaml\n",
    "from monad_std import Option, std_types"
   ]
  },
  {
   "cell_type": "code",
   "execution_count": 2,
   "outputs": [],
   "source": [
    "fp = r'E:\\WBH\\Games\\eve forever\\EVE Data\\sde\\sde\\fsd\\blueprints.yaml'\n",
    "with open(fp, 'r', encoding='utf-8') as f:\n",
    "    blueprints_data = yaml.load(f, yaml.CLoader)\n",
    "fp = r'E:\\WBH\\Games\\eve forever\\EVE Data\\sde\\sde\\fsd\\typeIDs.yaml'\n",
    "with open(fp, 'r', encoding='utf-8') as f:\n",
    "    type_data = yaml.load(f, yaml.CLoader)"
   ],
   "metadata": {
    "collapsed": false,
    "pycharm": {
     "name": "#%%\n"
    }
   }
  },
  {
   "cell_type": "code",
   "execution_count": 5,
   "outputs": [],
   "source": [
    "blp_map = {}\n",
    "for type_id, blp_data in blueprints_data.items():\n",
    "    # prod_flag: 0 for Null, 1 for manufacture, 2 for reaction\n",
    "    prod_flag = 0\n",
    "    if 'activities' in blp_data.keys():\n",
    "        if 'manufacturing' in blp_data['activities'].keys():\n",
    "            prod_flag = 1\n",
    "            materials = {}\n",
    "            prod = {}\n",
    "            time = 1\n",
    "            if 'materials' in blp_data['activities']['manufacturing'].keys():\n",
    "                for m in blp_data['activities']['manufacturing']['materials']:\n",
    "                    materials[m['typeID']] = m['quantity']\n",
    "            if 'products' in blp_data['activities']['manufacturing'].keys():\n",
    "                for p in blp_data['activities']['manufacturing']['products']:\n",
    "                    prod[p['typeID']] = p['quantity']\n",
    "            if 'time' in blp_data['activities']['manufacturing'].keys():\n",
    "                time = blp_data['activities']['manufacturing']['time']\n",
    "        elif 'reaction' in blp_data['activities'].keys():\n",
    "            prod_flag = 2\n",
    "            materials = {}\n",
    "            prod = {}\n",
    "            if 'materials' in blp_data['activities']['reaction'].keys():\n",
    "                for r in blp_data['activities']['reaction']['materials']:\n",
    "                    materials[r['typeID']] = r['quantity']\n",
    "            if 'products' in blp_data['activities']['reaction'].keys():\n",
    "                for p in blp_data['activities']['reaction']['products']:\n",
    "                    prod[p['typeID']] = p['quantity']\n",
    "            if 'time' in blp_data['activities']['reaction'].keys():\n",
    "                time = blp_data['activities']['reaction']['time']\n",
    "\n",
    "    if prod_flag == 0:\n",
    "        blp_map[type_id] = {'flag': 0, 'time': 0}\n",
    "    else:\n",
    "        blp_map[type_id] = {\n",
    "            'flag': prod_flag,\n",
    "            'material': materials,\n",
    "            'product': Option.from_nullable(prod)\n",
    "                .map(lambda v: std_types.MList((x, y) for x, y in v.items()))\n",
    "                .and_then(lambda v: v.get(0)),\n",
    "            'time': time\n",
    "        }"
   ],
   "metadata": {
    "collapsed": false,
    "pycharm": {
     "name": "#%%\n"
    }
   }
  },
  {
   "cell_type": "code",
   "execution_count": 6,
   "outputs": [],
   "source": [
    "db = sqlite3.connect(\"blueprints.db\")\n",
    "cursor = db.cursor()"
   ],
   "metadata": {
    "collapsed": false,
    "pycharm": {
     "name": "#%%\n"
    }
   }
  },
  {
   "cell_type": "code",
   "execution_count": 13,
   "outputs": [],
   "source": [
    "cursor.execute(\"delete from material;\")\n",
    "db.commit()"
   ],
   "metadata": {
    "collapsed": false,
    "pycharm": {
     "name": "#%%\n"
    }
   }
  },
  {
   "cell_type": "code",
   "execution_count": 7,
   "outputs": [],
   "source": [
    "_sql = \"\"\"create table if not exists material (\n",
    "    type_id integer primary key not null,\n",
    "    flag integer not null default 0,\n",
    "    material blob not null,\n",
    "    product blob,\n",
    "    time integer not null default 1\n",
    ");\"\"\"\n",
    "cursor.execute(_sql)\n",
    "db.commit()"
   ],
   "metadata": {
    "collapsed": false,
    "pycharm": {
     "name": "#%%\n"
    }
   }
  },
  {
   "cell_type": "code",
   "execution_count": 14,
   "outputs": [],
   "source": [
    "_sql = \"insert into material values (?, ?, ?, ?, ?);\"\n",
    "_null_sql = \"insert into material values (?, ?, ?, null, ?);\"\n",
    "for blp_id, blp_data in blp_map.items():\n",
    "    if blp_data['flag'] == 0:\n",
    "        mat_bin = cbor2.dumps({})\n",
    "        prod_bin = Option.none()\n",
    "    else:\n",
    "        mat_bin = cbor2.dumps(blp_data['material'])\n",
    "        prod_bin = blp_data['product'].map(cbor2.dumps)\n",
    "    tm = blp_data['time']\n",
    "    flag = blp_data['flag']\n",
    "    if tm == 0:\n",
    "        tm = 1\n",
    "    if prod_bin.is_some():\n",
    "        cursor.execute(_sql, (blp_id, flag, mat_bin, prod_bin.unwrap_unchecked(), tm))\n",
    "    else:\n",
    "        cursor.execute(_null_sql, (blp_id, flag, mat_bin, tm))\n",
    "db.commit()"
   ],
   "metadata": {
    "collapsed": false,
    "pycharm": {
     "name": "#%%\n"
    }
   }
  },
  {
   "cell_type": "code",
   "execution_count": 13,
   "outputs": [],
   "source": [
    "_sql = \"\"\"create table if not exists blp_name (\n",
    "    type_id integer primary key not null,\n",
    "    type_name text not null\n",
    ");\"\"\"\n",
    "cursor.execute(_sql)\n",
    "db.commit()"
   ],
   "metadata": {
    "collapsed": false,
    "pycharm": {
     "name": "#%%\n"
    }
   }
  },
  {
   "cell_type": "code",
   "execution_count": 18,
   "outputs": [],
   "source": [
    "_sql = \"insert into blp_name values (?, ?);\"\n",
    "for blp_id in blp_map.keys():\n",
    "    name = None\n",
    "    if 'name' in type_data[blp_id].keys():\n",
    "        if 'zh' in type_data[blp_id]['name'].keys():\n",
    "            name = type_data[blp_id]['name']['zh']\n",
    "        elif 'en' in type_data[blp_id]['name'].keys():\n",
    "            name = type_data[blp_id]['name']['en']\n",
    "    if name is None:\n",
    "        name = f\"无名称物品（{blp_id}）\"\n",
    "    cursor.execute(_sql, (blp_id, name))\n",
    "db.commit()"
   ],
   "metadata": {
    "collapsed": false,
    "pycharm": {
     "name": "#%%\n"
    }
   }
  }
 ],
 "metadata": {
  "kernelspec": {
   "display_name": "Python 3",
   "language": "python",
   "name": "python3"
  },
  "language_info": {
   "codemirror_mode": {
    "name": "ipython",
    "version": 2
   },
   "file_extension": ".py",
   "mimetype": "text/x-python",
   "name": "python",
   "nbconvert_exporter": "python",
   "pygments_lexer": "ipython2",
   "version": "2.7.6"
  }
 },
 "nbformat": 4,
 "nbformat_minor": 0
}