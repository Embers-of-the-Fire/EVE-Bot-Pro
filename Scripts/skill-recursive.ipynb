{
 "cells": [
  {
   "cell_type": "code",
   "execution_count": 36,
   "id": "initial_id",
   "metadata": {
    "collapsed": true,
    "ExecuteTime": {
     "end_time": "2023-11-26T02:36:57.427498500Z",
     "start_time": "2023-11-26T02:36:57.401603700Z"
    }
   },
   "outputs": [],
   "source": [
    "import sqlite3\n",
    "import yaml\n",
    "import json\n",
    "from monad_std import Option\n",
    "from typing import *\n",
    "from dataclasses import dataclass\n",
    "import cbor2"
   ]
  },
  {
   "cell_type": "code",
   "execution_count": 2,
   "outputs": [],
   "source": [
    "db = sqlite3.connect(\"./skills.db\")\n",
    "cursor = db.cursor()"
   ],
   "metadata": {
    "collapsed": false,
    "ExecuteTime": {
     "end_time": "2023-11-26T02:01:11.215657Z",
     "start_time": "2023-11-26T02:01:11.199630600Z"
    }
   },
   "id": "834813a4153f961"
  },
  {
   "cell_type": "code",
   "execution_count": 5,
   "outputs": [],
   "source": [
    "cursor.execute(\"\"\"create table if not exists recursive (\n",
    "    type_id integer,\n",
    "    total integer,\n",
    "    prereq blob\n",
    ");\"\"\")\n",
    "db.commit()"
   ],
   "metadata": {
    "collapsed": false,
    "ExecuteTime": {
     "end_time": "2023-11-26T02:02:40.942162800Z",
     "start_time": "2023-11-26T02:02:40.914957700Z"
    }
   },
   "id": "b71306671c4b7e3a"
  },
  {
   "cell_type": "code",
   "execution_count": 55,
   "outputs": [],
   "source": [
    "@dataclass(kw_only=True)\n",
    "class SkillObject:\n",
    "    skill_id: int\n",
    "    skill_level: int\n",
    "    factor: int\n",
    "    \n",
    "    @staticmethod\n",
    "    def get_skill(type_id: int) -> Option[List[\"SkillObject\"]]:\n",
    "        cursor.execute(\"select skill_id, skill_level from skills where type_id == ?\", (type_id,))\n",
    "        res = cursor.fetchall()\n",
    "        if not res:\n",
    "            return Option.none()\n",
    "        else:\n",
    "            def process(val: List[int]) -> SkillObject:\n",
    "                cursor.execute(\"select time_factor from skill_constant where skill_id == ?;\", (val[0],))\n",
    "                r = cursor.fetchone()\n",
    "                if r:\n",
    "                    result =  SkillObject(skill_id=val[0], skill_level=val[1], factor=r[0])\n",
    "                else:\n",
    "                    result = SkillObject(skill_id=val[0], skill_level=val[1], factor=0)\n",
    "                return result\n",
    "            return Option.some(list(map(process, res)))\n",
    "\n",
    "@dataclass(kw_only=True)\n",
    "class SkillGroup:\n",
    "    skill: SkillObject\n",
    "    prerequisites: List[\"SkillGroup\"]\n",
    "    \n",
    "    @staticmethod\n",
    "    def recursive_get(type_id: int, type_id_set: Set[int]) -> Option[List[\"SkillGroup\"]]:\n",
    "        skills = SkillObject.get_skill(type_id)\n",
    "        if skills.is_none():\n",
    "            return Option.none()\n",
    "        else:\n",
    "            ls = []\n",
    "            for skill in skills.unwrap():\n",
    "                if skill.skill_id in type_id_set:\n",
    "                    continue\n",
    "                cloned = set(type_id_set)\n",
    "                cloned.add(skill.skill_id)\n",
    "                sk = SkillGroup.recursive_get(skill.skill_id, cloned)\n",
    "                sg = SkillGroup(skill=skill, prerequisites=sk.unwrap_or([]))\n",
    "                ls.append(sg)\n",
    "            return Option.some(ls)\n",
    "\n",
    "@dataclass(kw_only=True)\n",
    "class Skill:\n",
    "    type_id: int\n",
    "    group: List[SkillGroup]\n",
    "    \n",
    "    @staticmethod\n",
    "    def get_skill_recursive(type_id: int) -> Option[\"Skill\"]:\n",
    "        s = set()\n",
    "        return SkillGroup.recursive_get(type_id, s).map(lambda x: Skill(type_id=type_id, group=x))\n",
    "    \n",
    "    @property\n",
    "    def total_points(self) -> int:\n",
    "        skill_time_factor = [0, 250, 1414, 8000, 45254, 256000]\n",
    "        level_dict: Dict[int, int] = {}\n",
    "        factor_dict: Dict[int, int] = {}\n",
    "        \n",
    "        def __rec(grp: SkillGroup):\n",
    "            nonlocal level_dict\n",
    "            if grp.skill.skill_id not in factor_dict.keys():\n",
    "                factor_dict[grp.skill.skill_id] = grp.skill.factor\n",
    "            \n",
    "            if grp.skill.skill_id not in level_dict.keys():\n",
    "                level_dict[grp.skill.skill_id] = grp.skill.skill_level\n",
    "            elif level_dict[grp.skill.skill_id] < grp.skill.skill_level:\n",
    "                level_dict[grp.skill.skill_id] = grp.skill.skill_level\n",
    "            for p in grp.prerequisites:\n",
    "                __rec(p)\n",
    "                \n",
    "        for g in self.group:\n",
    "            __rec(g)\n",
    "        \n",
    "        points = sum(map(lambda item: skill_time_factor[item[1]] * factor_dict[item[0]], level_dict.items()), start=0)\n",
    "        return points"
   ],
   "metadata": {
    "collapsed": false,
    "ExecuteTime": {
     "end_time": "2023-11-26T02:46:52.821761Z",
     "start_time": "2023-11-26T02:46:52.806991900Z"
    }
   },
   "id": "e692917e825a584b"
  },
  {
   "cell_type": "code",
   "execution_count": 29,
   "outputs": [],
   "source": [
    "def create_as_dict(val: Skill) -> dict:\n",
    "    def ser(grp: SkillGroup) -> dict:\n",
    "        return {\n",
    "            \"id\": grp.skill.skill_id,\n",
    "            \"level\": grp.skill.skill_level,\n",
    "            \"prereq\": list(map(ser, grp.prerequisites))\n",
    "        }\n",
    "    return list(map(ser, val.group))"
   ],
   "metadata": {
    "collapsed": false,
    "ExecuteTime": {
     "end_time": "2023-11-26T02:33:17.166660700Z",
     "start_time": "2023-11-26T02:33:17.151659700Z"
    }
   },
   "id": "347e377b6d300a41"
  },
  {
   "cell_type": "code",
   "execution_count": 57,
   "outputs": [],
   "source": [
    "cursor.execute(\"\"\"select type_id from skills;\"\"\")\n",
    "__sql = \"insert into recursive values (?, ?, ?);\"\n",
    "type_id_list = cursor.fetchall()\n",
    "for type_id, in type_id_list:\n",
    "    skill = Skill.get_skill_recursive(type_id).unwrap()\n",
    "    d = create_as_dict(skill)\n",
    "    tid = skill.type_id\n",
    "    point = skill.total_points\n",
    "    cursor.execute(__sql, (tid, point, cbor2.dumps(d)))\n",
    "db.commit()"
   ],
   "metadata": {
    "collapsed": false,
    "ExecuteTime": {
     "end_time": "2023-11-26T02:47:45.268316600Z",
     "start_time": "2023-11-26T02:47:22.818363600Z"
    }
   },
   "id": "dd2e3a046c6bd3c8"
  }
 ],
 "metadata": {
  "kernelspec": {
   "display_name": "Python 3",
   "language": "python",
   "name": "python3"
  },
  "language_info": {
   "codemirror_mode": {
    "name": "ipython",
    "version": 2
   },
   "file_extension": ".py",
   "mimetype": "text/x-python",
   "name": "python",
   "nbconvert_exporter": "python",
   "pygments_lexer": "ipython2",
   "version": "2.7.6"
  }
 },
 "nbformat": 4,
 "nbformat_minor": 5
}
