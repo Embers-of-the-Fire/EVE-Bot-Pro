{
 "cells": [
  {
   "cell_type": "code",
   "execution_count": 1,
   "metadata": {
    "collapsed": true
   },
   "outputs": [],
   "source": [
    "import sqlite3\n",
    "import yaml"
   ]
  },
  {
   "cell_type": "code",
   "execution_count": 2,
   "outputs": [],
   "source": [
    "fp = r\"E:\\WBH\\Games\\eve forever\\EVE Data\\Hhoboleaks Export\\cloneStates.yaml\"\n",
    "with open(fp, 'r', encoding='utf-8') as f:\n",
    "    omega_list = yaml.load(f, yaml.CLoader)\n",
    "fp = r\"E:\\WBH\\Games\\eve forever\\EVE Data\\sde\\sde\\fsd\\typeDogma.yaml\"\n",
    "with open(fp, 'r', encoding='utf-8') as f:\n",
    "    dogma_data = yaml.load(f, yaml.CLoader)"
   ],
   "metadata": {
    "collapsed": false,
    "pycharm": {
     "name": "#%%\n"
    }
   }
  },
  {
   "cell_type": "code",
   "execution_count": 6,
   "outputs": [],
   "source": [
    "db = sqlite3.connect('./skills.db')\n",
    "cursor = db.cursor()"
   ],
   "metadata": {
    "collapsed": false,
    "pycharm": {
     "name": "#%%\n"
    }
   }
  },
  {
   "cell_type": "code",
   "execution_count": 8,
   "outputs": [],
   "source": [
    "_sql = \"\"\"create table if not exists skill_constant (\n",
    "    skill_id integer primary key not null,\n",
    "    time_factor integer not null default 0,\n",
    "    alpha_level integer not null default 0\n",
    ");\"\"\"\n",
    "cursor.execute(_sql)\n",
    "db.commit()"
   ],
   "metadata": {
    "collapsed": false,
    "pycharm": {
     "name": "#%%\n"
    }
   }
  },
  {
   "cell_type": "code",
   "execution_count": 9,
   "outputs": [],
   "source": [
    "omega_map = {}\n",
    "for value in omega_list.values():\n",
    "    if 'skills' in value.keys():\n",
    "        skills: dict = value['skills']\n",
    "        for skill_id, skill_value in skills.items():\n",
    "            if skill_id not in omega_map.keys() or omega_map[skill_id] < skill_value:\n",
    "                omega_map[skill_id] = skill_value"
   ],
   "metadata": {
    "collapsed": false,
    "pycharm": {
     "name": "#%%\n"
    }
   }
  },
  {
   "cell_type": "code",
   "execution_count": 26,
   "outputs": [],
   "source": [
    "skill_map = {}\n",
    "for key, value in dogma_data.items():\n",
    "    factor = 0\n",
    "    if 'dogmaAttributes' in value.keys():\n",
    "        for attr in value['dogmaAttributes']:\n",
    "            if int(attr['attributeID']) == 275:\n",
    "                factor = int(attr['value'])\n",
    "                break\n",
    "    omega = 0 if key not in omega_map.keys() else omega_map[key]\n",
    "    skill_map[key] = {\"factor\": factor, \"omega\": omega}"
   ],
   "metadata": {
    "collapsed": false,
    "pycharm": {
     "name": "#%%\n"
    }
   }
  },
  {
   "cell_type": "code",
   "execution_count": 33,
   "outputs": [],
   "source": [
    "_sql = \"insert into skill_constant values (%d, %d, %d)\"\n",
    "for skill_id, data in skill_map.items():\n",
    "    cursor.execute(_sql % (skill_id, data['factor'], data['omega']))\n",
    "db.commit()"
   ],
   "metadata": {
    "collapsed": false,
    "pycharm": {
     "name": "#%%\n"
    }
   }
  },
  {
   "cell_type": "code",
   "execution_count": 34,
   "outputs": [],
   "source": [
    "_sql = \"delete from skill_constant where time_factor == 0;\"\n",
    "cursor.execute(_sql)\n",
    "db.commit()"
   ],
   "metadata": {
    "collapsed": false,
    "pycharm": {
     "name": "#%%\n"
    }
   }
  },
  {
   "cell_type": "code",
   "execution_count": 35,
   "outputs": [],
   "source": [
    "db.close()"
   ],
   "metadata": {
    "collapsed": false,
    "pycharm": {
     "name": "#%%\n"
    }
   }
  }
 ],
 "metadata": {
  "kernelspec": {
   "display_name": "Python 3",
   "language": "python",
   "name": "python3"
  },
  "language_info": {
   "codemirror_mode": {
    "name": "ipython",
    "version": 2
   },
   "file_extension": ".py",
   "mimetype": "text/x-python",
   "name": "python",
   "nbconvert_exporter": "python",
   "pygments_lexer": "ipython2",
   "version": "2.7.6"
  }
 },
 "nbformat": 4,
 "nbformat_minor": 0
}