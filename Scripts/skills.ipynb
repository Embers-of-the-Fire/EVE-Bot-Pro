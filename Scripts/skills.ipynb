{
 "cells": [
  {
   "cell_type": "code",
   "execution_count": 1,
   "metadata": {
    "collapsed": true
   },
   "outputs": [],
   "source": [
    "import yaml\n",
    "import sqlite3"
   ]
  },
  {
   "cell_type": "code",
   "execution_count": 2,
   "outputs": [],
   "source": [
    "fp = r'E:\\WBH\\Games\\eve forever\\EVE Data\\sde\\sde\\fsd\\typeDogma.yaml'\n",
    "with open(fp, 'r', encoding='utf-8') as f:\n",
    "    dogma_type_list = yaml.load(f, yaml.CLoader)"
   ],
   "metadata": {
    "collapsed": false,
    "pycharm": {
     "name": "#%%\n"
    }
   }
  },
  {
   "cell_type": "code",
   "execution_count": 25,
   "outputs": [],
   "source": [
    "skills = {}\n",
    "for key, item in dogma_type_list.items():\n",
    "    if 'dogmaAttributes' not in item.keys():\n",
    "        continue\n",
    "\n",
    "    skills_data = [{\n",
    "        'skillID': 0,\n",
    "        'skillLevel': 0,\n",
    "    } for _ in range(6)]\n",
    "\n",
    "    for attr in item['dogmaAttributes']:\n",
    "        attr_id = int(attr['attributeID'])\n",
    "        value = attr['value']\n",
    "\n",
    "        if attr_id == 182:\n",
    "            skills_data[0]['skillID'] = value\n",
    "        elif attr_id == 183:\n",
    "            skills_data[1]['skillID'] = value\n",
    "        elif attr_id == 184:\n",
    "            skills_data[2]['skillID'] = value\n",
    "        elif attr_id == 1285:\n",
    "            skills_data[3]['skillID'] = value\n",
    "        elif attr_id == 1289:\n",
    "            skills_data[4]['skillID'] = value\n",
    "        elif attr_id == 1290:\n",
    "            skills_data[5]['skillID'] = value\n",
    "\n",
    "        elif attr_id == 277:\n",
    "            skills_data[0]['skillLevel'] = value\n",
    "        elif attr_id == 278:\n",
    "            skills_data[1]['skillLevel'] = value\n",
    "        elif attr_id == 2798:\n",
    "            skills_data[2]['skillLevel'] = value\n",
    "        elif attr_id == 1286:\n",
    "            skills_data[3]['skillLevel'] = value\n",
    "        elif attr_id == 1287:\n",
    "            skills_data[4]['skillLevel'] = value\n",
    "        elif attr_id == 1288:\n",
    "            skills_data[5]['skillLevel'] = value\n",
    "    if skills_data:\n",
    "        struct = {\n",
    "            'type_id': key,\n",
    "            'skill': skills_data,\n",
    "        }\n",
    "        skills[key] = struct"
   ],
   "metadata": {
    "collapsed": false,
    "pycharm": {
     "name": "#%%\n"
    }
   }
  },
  {
   "cell_type": "code",
   "execution_count": 19,
   "outputs": [],
   "source": [
    "db = sqlite3.connect('skills.db')"
   ],
   "metadata": {
    "collapsed": false,
    "pycharm": {
     "name": "#%%\n"
    }
   }
  },
  {
   "cell_type": "code",
   "execution_count": 20,
   "outputs": [],
   "source": [
    "cursor = db.cursor()"
   ],
   "metadata": {
    "collapsed": false,
    "pycharm": {
     "name": "#%%\n"
    }
   }
  },
  {
   "cell_type": "code",
   "execution_count": 29,
   "outputs": [],
   "source": [
    "_sql = \"\"\"create table if not exists skills (\n",
    "    type_id integer,\n",
    "    skill_id integer,\n",
    "    skill_level integer\n",
    ");\"\"\"\n",
    "cursor.execute(_sql)\n",
    "db.commit()"
   ],
   "metadata": {
    "collapsed": false,
    "pycharm": {
     "name": "#%%\n"
    }
   }
  },
  {
   "cell_type": "code",
   "execution_count": 30,
   "outputs": [],
   "source": [
    "_sql = \"insert into skills values (%d, %d, %d);\"\n",
    "for type_id, type_data in skills.items():\n",
    "    for skill in type_data['skill']:\n",
    "        cursor.execute(_sql % (type_id, skill['skillID'], skill['skillLevel']))\n",
    "db.commit()"
   ],
   "metadata": {
    "collapsed": false,
    "pycharm": {
     "name": "#%%\n"
    }
   }
  },
  {
   "cell_type": "code",
   "execution_count": 31,
   "outputs": [],
   "source": [
    "cursor.execute('delete from skills where skill_id == 0 or skill_level == 0;')\n",
    "db.commit()"
   ],
   "metadata": {
    "collapsed": false,
    "pycharm": {
     "name": "#%%\n"
    }
   }
  }
 ],
 "metadata": {
  "kernelspec": {
   "display_name": "Python 3",
   "language": "python",
   "name": "python3"
  },
  "language_info": {
   "codemirror_mode": {
    "name": "ipython",
    "version": 2
   },
   "file_extension": ".py",
   "mimetype": "text/x-python",
   "name": "python",
   "nbconvert_exporter": "python",
   "pygments_lexer": "ipython2",
   "version": "2.7.6"
  }
 },
 "nbformat": 4,
 "nbformat_minor": 0
}