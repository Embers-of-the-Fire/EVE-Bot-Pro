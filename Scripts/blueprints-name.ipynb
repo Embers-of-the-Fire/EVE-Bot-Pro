{
 "cells": [
  {
   "cell_type": "code",
   "execution_count": 1,
   "metadata": {
    "collapsed": true
   },
   "outputs": [],
   "source": [
    "import cbor2\n",
    "import sqlite3"
   ]
  },
  {
   "cell_type": "code",
   "execution_count": 2,
   "outputs": [],
   "source": [
    "db = sqlite3.connect(\"blueprints.db\")\n",
    "cursor = db.cursor()"
   ],
   "metadata": {
    "collapsed": false,
    "pycharm": {
     "name": "#%%\n"
    }
   }
  },
  {
   "cell_type": "code",
   "execution_count": 3,
   "outputs": [],
   "source": [
    "cursor.execute(\"select type_id from material;\")\n",
    "type_id_list = list(map(lambda x: x[0], cursor.fetchall()))"
   ],
   "metadata": {
    "collapsed": false,
    "pycharm": {
     "name": "#%%\n"
    }
   }
  },
  {
   "cell_type": "code",
   "execution_count": 5,
   "outputs": [],
   "source": [
    "cursor.execute(\"\"\"create table if not exists material_recursive (\n",
    "    type_id integer primary key not null unique,\n",
    "    flag integer not null default 0,\n",
    "    material blob not null,\n",
    "    product blob not null,\n",
    "    time integer not null default 1\n",
    ");\"\"\")\n",
    "db.commit()"
   ],
   "metadata": {
    "collapsed": false,
    "pycharm": {
     "name": "#%%\n"
    }
   }
  },
  {
   "cell_type": "code",
   "execution_count": 4,
   "outputs": [],
   "source": [
    "cursor.execute(\"\"\"create table if not exists product (\n",
    "    product_id integer,\n",
    "    amount integer,\n",
    "    blp_id integer not null unique primary key\n",
    ");\"\"\")\n",
    "db.commit()"
   ],
   "metadata": {
    "collapsed": false,
    "pycharm": {
     "name": "#%%\n"
    }
   }
  },
  {
   "cell_type": "code",
   "execution_count": 5,
   "outputs": [],
   "source": [
    "def execute_one(*args, **kwargs):\n",
    "    cursor.execute(*args, **kwargs)\n",
    "    return cursor.fetchone()\n",
    "\n",
    "def execute_all(*args, **kwargs):\n",
    "    cursor.execute(*args, **kwargs)\n",
    "    return cursor.fetchall()"
   ],
   "metadata": {
    "collapsed": false,
    "pycharm": {
     "name": "#%%\n"
    }
   }
  },
  {
   "cell_type": "code",
   "execution_count": 6,
   "outputs": [],
   "source": [
    "_select_flag_sql = \"select flag from material where type_id == ?\""
   ],
   "metadata": {
    "collapsed": false,
    "pycharm": {
     "name": "#%%\n"
    }
   }
  },
  {
   "cell_type": "code",
   "execution_count": 7,
   "outputs": [],
   "source": [
    "for type_id in type_id_list:\n",
    "    blp_flag = execute_one(_select_flag_sql, (type_id,))\n",
    "    if blp_flag[0] == 0:\n",
    "        cursor.execute(\"insert into product values (null, null, ?)\", (type_id,))\n",
    "        continue\n",
    "    product = execute_one(\"select product from material where type_id == ?;\", (type_id,))\n",
    "    if product:\n",
    "        product = cbor2.loads(product[0])\n",
    "        if product:\n",
    "            for k, v in product.items():\n",
    "                cursor.execute(\"insert into product values (?, ?, ?);\", (k, v, type_id))\n",
    "            continue\n",
    "    cursor.execute(\"insert into product values (null, null, ?)\", (type_id,))\n",
    "db.commit()"
   ],
   "metadata": {
    "collapsed": false,
    "pycharm": {
     "name": "#%%\n"
    }
   }
  }
 ],
 "metadata": {
  "kernelspec": {
   "display_name": "Python 3",
   "language": "python",
   "name": "python3"
  },
  "language_info": {
   "codemirror_mode": {
    "name": "ipython",
    "version": 2
   },
   "file_extension": ".py",
   "mimetype": "text/x-python",
   "name": "python",
   "nbconvert_exporter": "python",
   "pygments_lexer": "ipython2",
   "version": "2.7.6"
  }
 },
 "nbformat": 4,
 "nbformat_minor": 0
}